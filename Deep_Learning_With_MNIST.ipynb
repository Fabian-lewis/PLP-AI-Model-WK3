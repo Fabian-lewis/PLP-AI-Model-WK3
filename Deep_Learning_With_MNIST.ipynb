{
  "nbformat": 4,
  "nbformat_minor": 0,
  "metadata": {
    "colab": {
      "provenance": [],
      "authorship_tag": "ABX9TyMzvsA6gQ+Ofzf4dzAdZWr7",
      "include_colab_link": true
    },
    "kernelspec": {
      "name": "python3",
      "display_name": "Python 3"
    },
    "language_info": {
      "name": "python"
    }
  },
  "cells": [
    {
      "cell_type": "markdown",
      "metadata": {
        "id": "view-in-github",
        "colab_type": "text"
      },
      "source": [
        "<a href=\"https://colab.research.google.com/github/Fabian-lewis/PLP-AI-Model-WK3/blob/main/Deep_Learning_With_MNIST.ipynb\" target=\"_parent\"><img src=\"https://colab.research.google.com/assets/colab-badge.svg\" alt=\"Open In Colab\"/></a>"
      ]
    },
    {
      "cell_type": "code",
      "execution_count": null,
      "metadata": {
        "id": "YSjowgfssPww"
      },
      "outputs": [],
      "source": []
    },
    {
      "cell_type": "markdown",
      "source": [
        "### Deep Learning on MNIST — CNN Model\n",
        "\n",
        "#### Objective\n",
        "Build a Convolutional Neural Network (CNN) to classify handwritten digits (0–9) from the MNIST dataset, and achieve >95% accuracy.\n",
        "\n",
        "### Tools\n",
        "    Pytorch : it’s intuitive, closer to Python, and gives you more control over what’s happening under the hood.\n",
        "    "
      ],
      "metadata": {
        "id": "g3x7FhQ7sXuK"
      }
    },
    {
      "cell_type": "code",
      "source": [
        "## Step 1: Imprort the Libraries\n",
        "import torch\n",
        "import torchvision\n",
        "import torchvision.transforms as transforms\n",
        "import torch\n",
        "import torch.nn as nn\n",
        "import torch.nn.functional as F\n",
        "import torch.optim as optim\n",
        "import matplotlib.pyplot as plt\n",
        "#print(torchvision.__version__)"
      ],
      "metadata": {
        "id": "O1srdYQjsa4R"
      },
      "execution_count": null,
      "outputs": []
    },
    {
      "cell_type": "markdown",
      "source": [
        "#### Key\n",
        "    torchvision helps us access and work with standard datasets like MNIST.\n",
        "\n",
        "    transforms is used to normalize image data (very important for neural networks).\n",
        "    \n",
        "    matplotlib is for plotting sample predictions later."
      ],
      "metadata": {
        "id": "fXolp11CsuvS"
      }
    },
    {
      "cell_type": "code",
      "source": [
        "## Load and Normalize the Dataset\n",
        "\n",
        "# Define transformation: convert to tensor and normalize\n",
        "transform = transforms.Compose([\n",
        "    transforms.ToTensor(), # * Convert PIL image to PyTorch\n",
        "    transforms.Normalize((0.5,),(0.5,)) # Normalize to range [-1, 1]\n",
        "])\n",
        "\n",
        "# Download and load training data\n",
        "trainset = torchvision.datasets.MNIST(\n",
        "    root='./data', train=True, download=True, transform=transform\n",
        ")\n",
        "\n",
        "trainloader = torch.utils.data.DataLoader(trainset, batch_size=64, shuffle=True)\n",
        "\n",
        "# Download  and load the test data\n",
        "testset = torchvision.datasets.MNIST(\n",
        "    root='./data', train=False, download=True, transform=transform\n",
        ")\n",
        "testloader = torch.utils.data.DataLoader(testset, batch_size=64, shuffle=False)\n",
        "\n",
        "\n",
        "dataiter = iter(trainloader)\n",
        "images, labels = next(dataiter)\n",
        "\n",
        "print(\"Batch loaded successfully. Shape:\", images.shape)\n"
      ],
      "metadata": {
        "colab": {
          "base_uri": "https://localhost:8080/"
        },
        "id": "rySvdZ1Rsjsd",
        "outputId": "e3d18ced-7399-484d-bf41-e76dfca79294"
      },
      "execution_count": null,
      "outputs": [
        {
          "output_type": "stream",
          "name": "stderr",
          "text": [
            "100%|██████████| 9.91M/9.91M [00:00<00:00, 39.4MB/s]\n",
            "100%|██████████| 28.9k/28.9k [00:00<00:00, 1.12MB/s]\n",
            "100%|██████████| 1.65M/1.65M [00:00<00:00, 8.42MB/s]\n",
            "100%|██████████| 4.54k/4.54k [00:00<00:00, 5.76MB/s]"
          ]
        },
        {
          "output_type": "stream",
          "name": "stdout",
          "text": [
            "Batch loaded successfully. Shape: torch.Size([64, 1, 28, 28])\n"
          ]
        },
        {
          "output_type": "stream",
          "name": "stderr",
          "text": [
            "\n"
          ]
        }
      ]
    },
    {
      "cell_type": "code",
      "source": [
        "# Visualize one sample from the training set\n",
        "examples = iter(trainloader)\n",
        "images, labels = next(examples)\n",
        "\n",
        "plt.imshow(images[0].squeeze(), cmap='gray')\n",
        "plt.title(f\"Label: {labels[0]}\")\n",
        "plt.show()\n"
      ],
      "metadata": {
        "colab": {
          "base_uri": "https://localhost:8080/",
          "height": 452
        },
        "id": "pNl3Frkzs2jt",
        "outputId": "f7bf58dc-32b4-4036-9de2-80dcc8700f2b"
      },
      "execution_count": null,
      "outputs": [
        {
          "output_type": "display_data",
          "data": {
            "text/plain": [
              "<Figure size 640x480 with 1 Axes>"
            ],
            "image/png": "[encoded data removed]"
          },
          "metadata": {}
        }
      ]
    },
    {
      "cell_type": "markdown",
      "source": [
        "### Key Explanations\n",
        "🔍 What’s Happening:\n",
        "\n",
        "     transforms.Compose(...): Applies a sequence of data transformations.\n",
        "\n",
        "    ToTensor(): Converts the 28x28 image into a 1x28x28 tensor.\n",
        "\n",
        "    Normalize((0.5,), (0.5,)): Maps pixel values from [0,1] → [−1,1].\n",
        "\n",
        "    DataLoader: Groups images into batches (64 per batch), so we train efficiently."
      ],
      "metadata": {
        "id": "SjTt1BOvt9iW"
      }
    },
    {
      "cell_type": "code",
      "source": [
        "## Building The CNN Model (Convoutional Neural Network)\n",
        "\n",
        "#custom CNN Model\n",
        "class Net(nn.Module):\n",
        "    def __init__(self):\n",
        "        super(Net, self).__init__()\n",
        "\n",
        "        # Convolutional Layer 1: Input channels = 1 (grayscale), output = 32 filters\n",
        "        self.conv1 = nn.Conv2d(in_channels=1, out_channels=32, kernel_size=3,padding=1)\n",
        "\n",
        "        # Convoutional Layer 2\n",
        "        self.conv2 = nn.Conv2d(in_channels=32, out_channels=32, kernel_size=3, padding=1)\n",
        "\n",
        "        # Pooling Layer: Halves the image dimension (2X2 window)\n",
        "        self.pool = nn.MaxPool2d(2,2)\n",
        "\n",
        "        # Fully Connected Layer 1: input = 64 feature maps of 7X7 each\n",
        "        self.fc1 = nn.Linear(32*7*7, 128)\n",
        "\n",
        "        # Output Layer: 10 digits (0-9)\n",
        "        self.fc2 = nn.Linear(128, 10)\n",
        "\n",
        "    def forward(self, x):\n",
        "        #Conv1 -> ReLU -> Pool\n",
        "        x = self.pool(F.relu(self.conv1(x)))\n",
        "\n",
        "        #Conv2 -> ReLU -> Pool\n",
        "        x = self.pool(F.relu(self.conv2(x)))\n",
        "\n",
        "        # print(\"Shape before flattening:\", x.shape)\n",
        "\n",
        "        #Flatten image for fully connected layers\n",
        "        # x = x.view(-1,64*7*7)\n",
        "        x = x.view(x.size(0), -1)  # Correct and dynamic!\n",
        "\n",
        "        # Dense Layers\n",
        "        x = F.relu(self.fc1(x))\n",
        "        x = self.fc2(x)\n",
        "\n",
        "        return x\n",
        "\n",
        "## Instantiate the Model\n",
        "net = Net()\n",
        "# print(net)\n"
      ],
      "metadata": {
        "id": "QlexjOrEtDGa"
      },
      "execution_count": null,
      "outputs": []
    },
    {
      "cell_type": "markdown",
      "source": [
        "### Breakdown of the Architecture\n",
        "\n",
        "| Layer                      | Purpose                                           |\n",
        "| -------------------------- | ------------------------------------------------- |\n",
        "| `Conv2d`                   | Learns features (e.g., edges, curves)             |\n",
        "| `ReLU`                     | Adds non-linearity (helps learn complex patterns) |\n",
        "| `MaxPool2d`                | Downsamples image (reduces size and computation)  |\n",
        "| `Linear` (Fully Connected) | Maps features to final digit predictions          |\n",
        "\n",
        "\n",
        "\n",
        "#### CNN Architecture Summary\n",
        "| Layer   | Shape Transformation | Description                                   |\n",
        "| ------- | -------------------- | --------------------------------------------- |\n",
        "| `conv1` | 1×28×28 → 32×28×28   | Detects low-level features (edges, lines)     |\n",
        "| `pool`  | 32×28×28 → 32×14×14  | Reduces dimensionality, keeps key info        |\n",
        "| `conv2` | 32×14×14 → 64×14×14  | Learns more complex features                  |\n",
        "| `pool`  | 64×14×14 → 64×7×7    | Further downsamples                           |\n",
        "| `fc1`   | 64×7×7 → 128         | Fully connected layer for decision-making     |\n",
        "| `fc2`   | 128 → 10             | Output layer (10 scores for 10 digit classes) |\n"
      ],
      "metadata": {
        "id": "n4dYAe6duLUi"
      }
    },
    {
      "cell_type": "code",
      "source": [
        "# Define Loss Function & Optimizer\n",
        "\n",
        "\n",
        "# Define how the model measures error\n",
        "criterion = nn.CrossEntropyLoss()\n",
        "\n",
        "# 🧰 Define how the model updates its weights\n",
        "optimizer = optim.Adam(net.parameters(), lr=0.001)\n",
        "\n",
        "## Train the CNN model\n",
        "epochs = 5  # You can experiment with higher values later\n",
        "\n",
        "for epoch in range(epochs):\n",
        "    running_loss = 0.0\n",
        "\n",
        "    for images, labels in trainloader:\n",
        "        # Reset gradients from previous iteration\n",
        "        optimizer.zero_grad()\n",
        "\n",
        "        # Forward pass\n",
        "        outputs = net(images)\n",
        "\n",
        "        # Compute loss\n",
        "        loss = criterion(outputs, labels)\n",
        "\n",
        "        # Backward pass\n",
        "        loss.backward()\n",
        "\n",
        "        # Update weights\n",
        "        optimizer.step()\n",
        "\n",
        "        # Track total loss\n",
        "        running_loss += loss.item()\n",
        "\n",
        "    print(f\"Epoch {epoch+1}/{epochs} - Loss: {running_loss:.4f}\")\n",
        "\n",
        "## Instantiate the Model\n",
        "# net = Net()\n",
        "# print(net)\n"
      ],
      "metadata": {
        "colab": {
          "base_uri": "https://localhost:8080/"
        },
        "id": "Cb8PLdP5t3J-",
        "outputId": "d3eb83e1-b5a6-400f-98a0-620cf5d548fd"
      },
      "execution_count": null,
      "outputs": [
        {
          "output_type": "stream",
          "name": "stdout",
          "text": [
            "Epoch 1/5 - Loss: 163.6118\n",
            "Epoch 2/5 - Loss: 45.7470\n",
            "Epoch 3/5 - Loss: 32.5106\n",
            "Epoch 4/5 - Loss: 23.8461\n",
            "Epoch 5/5 - Loss: 18.7116\n"
          ]
        }
      ]
    },
    {
      "cell_type": "code",
      "source": [
        "correct = 0\n",
        "total = 0\n",
        "\n",
        "with torch.no_grad():  # Disable gradient tracking during evaluation\n",
        "    for images, labels in testloader:\n",
        "        outputs = net(images)  # Forward pass\n",
        "        _, predicted = torch.max(outputs.data, 1)  # Get predicted class\n",
        "        total += labels.size(0)\n",
        "        correct += (predicted == labels).sum().item()\n",
        "\n",
        "print(f'Test Accuracy: {100 * correct / total:.2f}%')\n"
      ],
      "metadata": {
        "id": "VM-jN1WUuHJu",
        "colab": {
          "base_uri": "https://localhost:8080/"
        },
        "outputId": "aa139421-7754-4035-8154-62f599a24aac"
      },
      "execution_count": null,
      "outputs": [
        {
          "output_type": "stream",
          "name": "stdout",
          "text": [
            "Test Accuracy: 98.95%\n"
          ]
        }
      ]
    },
    {
      "cell_type": "code",
      "source": [
        "import matplotlib.pyplot as plt\n",
        "import numpy as np\n",
        "\n",
        "# Get 5 random images from the test set\n",
        "dataiter = iter(testloader)\n",
        "images, labels = next(dataiter)\n",
        "\n",
        "# Get model predictions\n",
        "outputs = net(images)\n",
        "_, preds = torch.max(outputs, 1)\n",
        "\n",
        "# Plot the first 5 test images, their predicted labels, and true labels\n",
        "fig, axes = plt.subplots(1, 5, figsize=(15, 4))\n",
        "\n",
        "for idx in range(5):\n",
        "    img = images[idx].squeeze()  # Remove extra channel\n",
        "    axes[idx].imshow(img, cmap='gray')\n",
        "    axes[idx].set_title(f\"Pred: {preds[idx].item()}\\nTrue: {labels[idx].item()}\")\n",
        "    axes[idx].axis('off')\n",
        "\n",
        "plt.tight_layout()\n",
        "plt.show()\n"
      ],
      "metadata": {
        "colab": {
          "base_uri": "https://localhost:8080/",
          "height": 163
        },
        "id": "WpiEfGn_DAFW",
        "outputId": "216e33de-763f-4ccb-fad2-a17497fc76d6"
      },
      "execution_count": null,
      "outputs": [
        {
          "output_type": "display_data",
          "data": {
            "text/plain": [
              "<Figure size 1500x400 with 5 Axes>"
            ],
            "image/png": "[encoded data removed]"
          },
          "metadata": {}
        }
      ]
    },
    {
      "cell_type": "code",
      "source": [],
      "metadata": {
        "id": "XgZ4Pm68DKTK"
      },
      "execution_count": null,
      "outputs": []
    }
  ]
}