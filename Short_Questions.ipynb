{
  "nbformat": 4,
  "nbformat_minor": 0,
  "metadata": {
    "colab": {
      "provenance": [],
      "authorship_tag": "ABX9TyOHp+rnt7MgAsIDQ9Eq8NMF",
      "include_colab_link": true
    },
    "kernelspec": {
      "name": "python3",
      "display_name": "Python 3"
    },
    "language_info": {
      "name": "python"
    }
  },
  "cells": [
    {
      "cell_type": "markdown",
      "metadata": {
        "id": "view-in-github",
        "colab_type": "text"
      },
      "source": [
        "<a href=\"https://colab.research.google.com/github/Fabian-lewis/PLP-AI-Model-WK3/blob/main/Short_Questions.ipynb\" target=\"_parent\"><img src=\"https://colab.research.google.com/assets/colab-badge.svg\" alt=\"Open In Colab\"/></a>"
      ]
    },
    {
      "cell_type": "markdown",
      "source": [
        "### 1. Short Answer Questions\n",
        "#### Q1: Explain the primary differences between TensorFlow and PyTorch. When would you choose one over the other?\n",
        "   TensorFlow and PyTorch are both popular deep learning frameworks, but they differ in several key ways:\n",
        "   \n",
        "   | Aspect            | TensorFlow                                                                              | PyTorch                                            |\n",
        "| ----------------- | --------------------------------------------------------------------------------------- | -------------------------------------------------- |\n",
        "| **Execution**     | Uses static computation graphs (TensorFlow 1.x) or dynamic (in 2.x via eager execution) | Fully dynamic computation graph (eager by default) |\n",
        "| **Syntax**        | More abstract, declarative                                                              | More Pythonic and intuitive                        |\n",
        "| **Deployment**    | Easier with TensorFlow Serving, TF Lite, etc.                                           | Deployment improving (TorchServe, ONNX)            |\n",
        "| **Visualization** | TensorBoard is native and powerful                                                      | Integration possible but less native               |\n",
        "\n",
        "\n",
        "\n",
        "#### When to choose:\n",
        "    TensorFlow: When you need robust tools for production and deployment (e.g., mobile/edge devices, cloud models).\n",
        "    PyTorch: When you're in research or experimentation and need flexibility, readable code, and debugging ease.\n",
        "\n",
        "#### Q2: Describe two use cases for Jupyter Notebooks in AI development.\n",
        "##### -Prototyping Machine Learning Models\n",
        "    Jupyter Notebooks allow interactive development, where you can build, test, and tweak ML models step-by-step, visualizing results (like confusion matrices or plots) on the fly.\n",
        "\n",
        "##### -Data Exploration and Visualization\n",
        "    You can clean, transform, and analyze datasets using pandas, Matplotlib, and Seaborn—all within cells. It’s ideal for EDA (Exploratory Data Analysis) before applying any AI models.\n",
        "\n",
        "\n",
        "#### Q3: How does spaCy enhance NLP tasks compared to basic Python string operations?\n",
        "spaCy is a robust NLP library that goes far beyond basic string functions like .split() or .replace() by offering:\n",
        "\n",
        "    1. Tokenization: Accurately breaks text into words and sentences, considering grammar and context.\n",
        "    2. Named Entity Recognition (NER): Identifies people, locations, dates, etc.\n",
        "    3. Part-of-Speech Tagging: Labels each word with its grammatical role.\n",
        "    4. Dependency Parsing: Understands sentence structure.\n",
        "\n",
        "Bottom line: spaCy is optimized for speed and accuracy in linguistic tasks, making it ideal for real-world NLP projects—something basic Python string operations cannot handle meaningfully.\n",
        "\n",
        "\n",
        "### 2. Comparative Analysis: Scikit-learn vs. TensorFlow\n",
        "| Feature                       | **Scikit-learn**                                                       | **TensorFlow**                                                                    |\n",
        "| ----------------------------- | ---------------------------------------------------------------------- | --------------------------------------------------------------------------------- |\n",
        "| **Target Applications**       | Classical ML (e.g., SVMs, random forests, clustering)                  | Deep Learning (e.g., CNNs, RNNs, DNNs)                                            |\n",
        "| **Ease of Use for Beginners** | Very beginner-friendly (simple APIs, excellent documentation)          | Steeper learning curve, especially for model architecture                         |\n",
        "| **Community Support**         | Large, strong community; widely used in academic and business settings | Very large and active community, especially in deep learning and production tools |\n",
        "\n",
        "\n",
        "#### Summary:\n",
        "    Use Scikit-learn for traditional ML tasks with structured data and simple models.\n",
        "    Use TensorFlow for complex tasks like image recognition, speech, or custom neural networks."
      ],
      "metadata": {
        "id": "-hGFwutvPpRx"
      }
    },
    {
      "cell_type": "code",
      "source": [],
      "metadata": {
        "id": "OL4O6c8IPlj5"
      },
      "execution_count": null,
      "outputs": []
    }
  ]
}